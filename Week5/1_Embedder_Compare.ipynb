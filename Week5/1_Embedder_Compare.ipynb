{
 "cells": [
  {
   "cell_type": "markdown",
   "metadata": {},
   "source": [
    "### Import required Libraries  \n",
    "> Sentence Transformers provide multiple Embedding models  \n",
    "> Google Gemini provides Embedding models as well"
   ]
  },
  {
   "cell_type": "code",
   "execution_count": 6,
   "metadata": {},
   "outputs": [
    {
     "ename": "ImportError",
     "evalue": "cannot import name 'genai' from 'google' (unknown location)",
     "output_type": "error",
     "traceback": [
      "\u001b[31m---------------------------------------------------------------------------\u001b[39m",
      "\u001b[31mImportError\u001b[39m                               Traceback (most recent call last)",
      "\u001b[36mCell\u001b[39m\u001b[36m \u001b[39m\u001b[32mIn[6]\u001b[39m\u001b[32m, line 6\u001b[39m\n\u001b[32m      3\u001b[39m \u001b[38;5;28;01mimport\u001b[39;00m\u001b[38;5;250m \u001b[39m\u001b[34;01mpandas\u001b[39;00m\u001b[38;5;250m \u001b[39m\u001b[38;5;28;01mas\u001b[39;00m\u001b[38;5;250m \u001b[39m\u001b[34;01mpd\u001b[39;00m\n\u001b[32m      5\u001b[39m \u001b[38;5;66;03m# Google AI library\u001b[39;00m\n\u001b[32m----> \u001b[39m\u001b[32m6\u001b[39m \u001b[38;5;28;01mfrom\u001b[39;00m\u001b[38;5;250m \u001b[39m\u001b[34;01mgoogle\u001b[39;00m\u001b[38;5;250m \u001b[39m\u001b[38;5;28;01mimport\u001b[39;00m genai\n\u001b[32m      7\u001b[39m \u001b[38;5;28;01mfrom\u001b[39;00m\u001b[38;5;250m \u001b[39m\u001b[34;01mgoogle\u001b[39;00m\u001b[34;01m.\u001b[39;00m\u001b[34;01mgenai\u001b[39;00m\u001b[38;5;250m \u001b[39m\u001b[38;5;28;01mimport\u001b[39;00m types\n\u001b[32m      9\u001b[39m \u001b[38;5;66;03m# Load Environment variables from file\u001b[39;00m\n",
      "\u001b[31mImportError\u001b[39m: cannot import name 'genai' from 'google' (unknown location)"
     ]
    }
   ],
   "source": [
    "# Sentence transformers to use the embedding models locally\n",
    "from sentence_transformers import SentenceTransformer, util\n",
    "import pandas as pd\n",
    "\n",
    "# Google AI library\n",
    "from google import genai\n",
    "from google.genai import types\n",
    "\n",
    "# Load Environment variables from file\n",
    "from dotenv import load_dotenv\n",
    "\n",
    "# Initialise an client object with API key\n",
    "load_dotenv ()\n",
    "client = genai.Client()"
   ]
  },
  {
   "cell_type": "markdown",
   "metadata": {},
   "source": [
    "#### Google Gemini Embedder\n",
    "Google Gemini provides embedding models that can be used through API  \n",
    "They are heavy models which are resource intensive"
   ]
  },
  {
   "cell_type": "code",
   "execution_count": null,
   "metadata": {},
   "outputs": [],
   "source": [
    "Text = \"Embeddings are a mechanism to vectorise the text data\"\n",
    "\n",
    "# invoke API to get embedding\n",
    "result = client.models.embed_content(\n",
    "        model=\"gemini-embedding-001\",\n",
    "        contents=Text,\n",
    "        )\n",
    "\n",
    "# Check Dimension and vector content\n",
    "print(\"Vector Dimension : \", len(result.embeddings[0].values))\n",
    "print(result.embeddings)"
   ]
  },
  {
   "cell_type": "markdown",
   "metadata": {},
   "source": [
    "**Adapt the Embeddings**  \n",
    "Gemini API provides possibility to get the embedding vector at pre-defined dimensions  \n",
    "Also vector can be generated for the purpose of usage  "
   ]
  },
  {
   "cell_type": "code",
   "execution_count": null,
   "metadata": {},
   "outputs": [],
   "source": [
    "# invoke API to get embedding for a dimension\n",
    "result = client.models.embed_content(\n",
    "        model=\"gemini-embedding-001\",\n",
    "        contents=Text,\n",
    "        config=types.EmbedContentConfig(output_dimensionality=768)\n",
    "        )\n",
    "\n",
    "# Check Dimension and vector content\n",
    "print(\"Vector Dimension : \", len(result.embeddings[0].values))\n",
    "print(result.embeddings)"
   ]
  },
  {
   "cell_type": "code",
   "execution_count": null,
   "metadata": {},
   "outputs": [],
   "source": [
    "# invoke API to get embedding for specific task\n",
    "result = client.models.embed_content(\n",
    "        model=\"gemini-embedding-001\",\n",
    "        contents=Text,\n",
    "        config=types.EmbedContentConfig(output_dimensionality=768, \n",
    "                                        # task_type=\"SEMANTIC_SIMILARITY\",\n",
    "                                        task_type=\"CLASSIFICATION\",\n",
    "                                        )\n",
    "        )\n",
    "\n",
    "# Check Dimension and vector content\n",
    "print(\"Vector Dimension : \", len(result.embeddings[0].values))\n",
    "print(result.embeddings)"
   ]
  },
  {
   "cell_type": "markdown",
   "metadata": {},
   "source": [
    "#### Embedding Models from Sentence Transformers\n",
    "Sentence Transformers provide various embedding models that are different in terms of dimension, trainning data set  \n",
    "These models can be used locally by python library caching for local inference  \n",
    "Details can be found in Hugging face portal"
   ]
  },
  {
   "cell_type": "code",
   "execution_count": null,
   "metadata": {},
   "outputs": [],
   "source": [
    "# Identify few embedders from HF\n",
    "Embedders  = [\"nomic-ai/nomic-embed-text-v1.5\",\n",
    "              \"sentence-transformers/paraphrase-multilingual-MiniLM-L12-v2\",\n",
    "              \"BAAI/bge-m3\"]\n",
    "\n",
    "Vectors = {}\n",
    "\n",
    "# Convert the text into vector using each embedder\n",
    "for Emb in Embedders :\n",
    "\n",
    "    # initialise the model\n",
    "    model = SentenceTransformer (Emb, trust_remote_code=True)\n",
    "\n",
    "    # encode (vectorise) the same sentence\n",
    "    vec = model.encode (Text)\n",
    "\n",
    "    Vectors[Emb] = {'Dimension' : vec.size,'vector' : vec}\n",
    "\n",
    "Dim = {m : d['Dimension'] for m, d  in Vectors.items()}\n",
    "Vec = {m : v['vector'] for m, v  in Vectors.items()}"
   ]
  },
  {
   "cell_type": "code",
   "execution_count": null,
   "metadata": {},
   "outputs": [],
   "source": [
    "# Check Dimension and vectors from different models for same text\n",
    "print (Dim)\n",
    "Vec"
   ]
  }
 ],
 "metadata": {
  "kernelspec": {
   "display_name": "venv_week5",
   "language": "python",
   "name": "python3"
  },
  "language_info": {
   "codemirror_mode": {
    "name": "ipython",
    "version": 3
   },
   "file_extension": ".py",
   "mimetype": "text/x-python",
   "name": "python",
   "nbconvert_exporter": "python",
   "pygments_lexer": "ipython3",
   "version": "3.13.3"
  }
 },
 "nbformat": 4,
 "nbformat_minor": 2
}
